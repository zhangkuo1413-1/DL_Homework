{
 "cells": [
  {
   "cell_type": "markdown",
   "metadata": {},
   "source": [
    "# A backward pass of Multi-layer Perceptrons"
   ]
  },
  {
   "cell_type": "markdown",
   "metadata": {},
   "source": [
    "Suppose that we want to build a neural network architecture that has 3 input units, 2 hidden layers of 4 units each and 2 output units."
   ]
  },
  {
   "cell_type": "code",
   "execution_count": 9,
   "metadata": {},
   "outputs": [],
   "source": [
    "import numpy as np\n",
    "np.random.seed(12345)"
   ]
  },
  {
   "cell_type": "code",
   "execution_count": 10,
   "metadata": {
    "pycharm": {
     "name": "#%%\n"
    }
   },
   "outputs": [],
   "source": [
    "def initialize(input_dim, hidden1_dim, hidden2_dim, output_dim, batch_size):\n",
    "    W1 = np.random.randn(hidden1_dim, input_dim) * 0.01\n",
    "    b1 = np.zeros((hidden1_dim,))\n",
    "    W2 = np.random.randn(hidden2_dim, hidden1_dim) * 0.01\n",
    "    b2 = np.zeros((hidden2_dim,))\n",
    "    W3 = np.random.randn(output_dim, hidden2_dim) * 0.01\n",
    "    b3 = np.zeros((output_dim,))\n",
    "\n",
    "    parameters = [W1, b1, W2, b2, W3, b3]\n",
    "    x = np.random.rand(input_dim, batch_size)\n",
    "    y = np.random.randn(output_dim, batch_size)\n",
    "\n",
    "    return parameters, x, y"
   ]
  },
  {
   "cell_type": "code",
   "execution_count": 11,
   "metadata": {
    "pycharm": {
     "name": "#%%\n"
    }
   },
   "outputs": [],
   "source": [
    "def sigmoid(x):\n",
    "    return 1 / (1 + np.exp(-x))"
   ]
  },
  {
   "cell_type": "code",
   "execution_count": 12,
   "metadata": {
    "pycharm": {
     "name": "#%%\n"
    }
   },
   "outputs": [],
   "source": [
    "def deriv_sigmoid(x):\n",
    "    #####################################\n",
    "    #   Computing derivative of sigmoid\n",
    "    sig_d = sigmoid(x) * (1 - sigmoid(x))\n",
    "    #####################################\n",
    "    return sig_d"
   ]
  },
  {
   "cell_type": "code",
   "execution_count": 21,
   "metadata": {
    "pycharm": {
     "name": "#%%\n"
    }
   },
   "outputs": [],
   "source": [
    "def forward(parameters, X):\n",
    "    W1, b1, W2, b2, W3, b3 = parameters\n",
    "\n",
    "    batch_size = X.shape[1]\n",
    "    hidden1_dim = W1.shape[0]\n",
    "    hidden2_dim = W2.shape[0]\n",
    "    output_dim = W3.shape[0]\n",
    "\n",
    "    hid_1 = np.zeros((hidden1_dim, batch_size))\n",
    "    hid_2 = np.zeros((hidden2_dim, batch_size))\n",
    "    outputs = np.zeros((output_dim, batch_size))\n",
    "\n",
    "    #####################################\n",
    "    #   Computing forward pass\n",
    "    hid_1 = sigmoid(W1.dot(X) + np.tile(np.reshape(b1,(hidden1_dim, 1)), batch_size))\n",
    "    hid_2 = sigmoid(W2.dot(hid_1) + np.tile(np.reshape(b2,(hidden2_dim, 1)), batch_size))\n",
    "    outputs = W3.dot(hid_2) + np.tile(np.reshape(b3,(output_dim, 1)), batch_size)\n",
    "    #####################################\n",
    "\n",
    "    activations = [X, hid_1, hid_2, outputs]\n",
    "\n",
    "    return activations"
   ]
  },
  {
   "cell_type": "code",
   "execution_count": 22,
   "metadata": {
    "pycharm": {
     "name": "#%%\n"
    }
   },
   "outputs": [],
   "source": [
    "def squared_loss(predictions, targets):\n",
    "    \"\"\" Computes mean squared error\n",
    "\n",
    "    predictions: (output_dim, batch_size)\n",
    "    targets: (output_dim, batch_size)\n",
    "\n",
    "    \"\"\"\n",
    "\n",
    "    loss = np.zeros(targets.shape[1])\n",
    "\n",
    "    #####################\n",
    "    loss = 0.5 * np.sum((predictions - targets) ** 2, axis = 0)\n",
    "    #####################\n",
    "\n",
    "    return np.mean(loss)"
   ]
  },
  {
   "cell_type": "code",
   "execution_count": 37,
   "metadata": {
    "pycharm": {
     "name": "#%%\n"
    }
   },
   "outputs": [],
   "source": [
    "def deriv_squared_loss(predictions, targets):\n",
    "    batch_size = targets.shape[1]\n",
    "\n",
    "    dloss = np.zeros(targets.shape)\n",
    "    \n",
    "    #####################\n",
    "    dloss = (predictions - targets) / batch_size\n",
    "    #####################\n",
    "    \n",
    "    return dloss"
   ]
  },
  {
   "cell_type": "code",
   "execution_count": 38,
   "metadata": {
    "pycharm": {
     "name": "#%%\n"
    }
   },
   "outputs": [],
   "source": [
    "def backward(activations, targets, parameters):\n",
    "\n",
    "    X, hid_1, hid_2, predictions = activations\n",
    "\n",
    "    input_dim = X.shape[0]\n",
    "    hidden1_dim = hid_1.shape[0]\n",
    "    hidden2_dim = hid_2.shape[0]\n",
    "    output_dim = predictions.shape[0]\n",
    "\n",
    "    W1, b1, W2, b2, W3, b3 = parameters\n",
    "\n",
    "    dW1 = np.zeros((hidden1_dim, input_dim))\n",
    "    db1 = np.zeros((hidden1_dim,))\n",
    "    dW2 = np.zeros((hidden2_dim, hidden1_dim))\n",
    "    db2 = np.zeros((hidden2_dim,))\n",
    "    dW3 = np.zeros((output_dim, hidden2_dim))\n",
    "    db3 = np.zeros((output_dim,))\n",
    "\n",
    "    ##############################\n",
    "    #   Computing the gradients\n",
    "    #\n",
    "    dO = deriv_squared_loss(predictions, targets)\n",
    "    dW3 = dO.dot(hid_2.T)\n",
    "    db3 = np.sum(dO, axis = 1)\n",
    "    dhid_2 = W3.T.dot(dO)\n",
    "    dy_2 =  deriv_sigmoid(W2.dot(hid_1) + np.tile(np.reshape(b2,(hidden2_dim, 1)), X.shape[1])) * dhid_2\n",
    "    dW2 = dy_2.dot(hid_1.T)\n",
    "    db2 = np.sum(dy_2, axis = 1)\n",
    "    dhid_1 = W2.T.dot(dy_2)\n",
    "    dy_1 = deriv_sigmoid(W1.dot(X) + np.tile(np.reshape(b1,(hidden1_dim, 1)), X.shape[1])) * dhid_1\n",
    "    dW1 = dy_1.dot(X.T)\n",
    "    db1 = np.sum(dy_1, axis = 1)\n",
    "    ##############################\n",
    "\n",
    "    grads = [dW1, db1, dW2, db2, dW3, db3]\n",
    "\n",
    "    return grads"
   ]
  },
  {
   "cell_type": "code",
   "execution_count": 39,
   "metadata": {
    "pycharm": {
     "name": "#%%\n"
    }
   },
   "outputs": [],
   "source": [
    "def convert_to_1d_vector(parameters):\n",
    "    W1, b1, W2, b2, W3, b3 = parameters\n",
    "    params = np.concatenate([W1.ravel(), b1.ravel(),\n",
    "                             W2.ravel(), b2.ravel(),\n",
    "                             W3.ravel(), b3.ravel()], axis=0)\n",
    "\n",
    "    return params"
   ]
  },
  {
   "cell_type": "code",
   "execution_count": 40,
   "metadata": {},
   "outputs": [],
   "source": [
    "def convert_to_list(params, input_dim, hidden1_dim, hidden2_dim, output_dim):\n",
    "    base_idx = 0\n",
    "\n",
    "    W1 = np.reshape(params[base_idx: base_idx + input_dim * hidden1_dim],\n",
    "                    (hidden1_dim, input_dim))\n",
    "    base_idx += input_dim * hidden1_dim\n",
    "\n",
    "    b1 = params[base_idx: base_idx + hidden1_dim]\n",
    "    base_idx += hidden1_dim\n",
    "\n",
    "    W2 = np.reshape(params[base_idx: base_idx + hidden1_dim * hidden2_dim],\n",
    "                    (hidden2_dim, hidden1_dim))\n",
    "    base_idx += hidden1_dim * hidden2_dim\n",
    "\n",
    "    b2 = params[base_idx: base_idx + hidden2_dim]\n",
    "    base_idx += hidden2_dim\n",
    "\n",
    "    W3 = np.reshape(params[base_idx: base_idx + hidden2_dim * output_dim],\n",
    "                    (output_dim, hidden2_dim))\n",
    "    base_idx += hidden2_dim * output_dim\n",
    "\n",
    "    b3 = params[base_idx: base_idx + output_dim]\n",
    "\n",
    "    parameters = [W1, b1, W2, b2, W3, b3]\n",
    "\n",
    "    return parameters"
   ]
  },
  {
   "cell_type": "code",
   "execution_count": 64,
   "metadata": {},
   "outputs": [],
   "source": [
    "def eval_numerical_gradient(parameters, gradients, X, Y, loss, eps=1e-7):\n",
    "    W1, b1, W2, b2, W3, b3 = parameters\n",
    "    network_structure = [X.shape[0], W1.shape[0], W2.shape[0], W3.shape[0]]\n",
    "\n",
    "    # convert a list of parameters to a single vector\n",
    "    params = convert_to_1d_vector(parameters)\n",
    "    grads = convert_to_1d_vector(gradients)\n",
    "\n",
    "    n_params = len(params)\n",
    "    num_grads = np.zeros((n_params,))\n",
    "    diff = 0.\n",
    "    \n",
    "    ##############################\n",
    "    #   Computing the numerical gradients\n",
    "    #\n",
    "    for i in range(n_params):\n",
    "        temp = params.copy()\n",
    "        temp[i] += eps\n",
    "        num_grads[i] = (loss(forward(convert_to_list(temp, X.shape[0], W1.shape[0], W2.shape[0], W3.shape[0]), X)[3], Y) - loss(forward(parameters, X)[3], Y)) / eps\n",
    "        diff += abs(num_grads[i] - grads[i]) / n_params\n",
    "    ##############################\n",
    "\n",
    "    \n",
    "\n",
    "    return diff, num_grads\n"
   ]
  },
  {
   "cell_type": "code",
   "execution_count": 65,
   "metadata": {
    "pycharm": {
     "name": "#%%\n"
    }
   },
   "outputs": [
    {
     "name": "stdout",
     "output_type": "stream",
     "text": [
      "Loss: 0.4421052327576752\n",
      "Analytic Gradients:\n",
      "delta W_1:\n",
      " [[-9.23772285e-07  3.52533232e-06  2.24524093e-06]\n",
      " [ 3.90191387e-07 -6.98072440e-06 -5.11339794e-06]\n",
      " [ 8.92492322e-07 -4.18690300e-06 -2.76151387e-06]\n",
      " [-4.80861568e-07 -3.31217684e-06 -2.73519496e-06]]\n",
      "delta b_1:\n",
      " [ 9.97614590e-07 -5.08599597e-06 -1.62716272e-06 -3.85286549e-06]\n",
      "delta W_2:\n",
      " [[ 7.94000557e-05  8.00206970e-05  7.94216697e-05  7.92077596e-05]\n",
      " [-4.36906294e-04 -4.39414328e-04 -4.36904288e-04 -4.36625619e-04]\n",
      " [-8.94206921e-05 -8.88636841e-05 -8.92775812e-05 -9.02805895e-05]\n",
      " [-2.28644338e-04 -2.32267214e-04 -2.28951316e-04 -2.26517312e-04]]\n",
      "delta b_2:\n",
      " [ 0.0001591  -0.00087504 -0.0001786  -0.00045898]\n",
      "delta W_3:\n",
      " [[ 0.04068472  0.04101979  0.04062781  0.04104827]\n",
      " [-0.14487681 -0.14607365 -0.14467347 -0.14618082]]\n",
      "delta b_3:\n",
      " [ 0.08145744 -0.2900783 ]\n",
      "\n",
      "\n",
      "Numerical Gradients:\n",
      "delta W_1:\n",
      " [[-9.23777721e-07  3.52533003e-06  2.24523178e-06]\n",
      " [ 3.90193433e-07 -6.98072711e-06 -5.11340414e-06]\n",
      " [ 8.92486085e-07 -4.18691193e-06 -2.76151879e-06]\n",
      " [-4.80859796e-07 -3.31217831e-06 -2.73518985e-06]]\n",
      "delta b_1:\n",
      " [ 9.97607552e-07 -5.08600384e-06 -1.62717062e-06 -3.85286802e-06]\n",
      "delta W_2:\n",
      " [[ 7.94000476e-05  8.00206901e-05  7.94216692e-05  7.92077570e-05]\n",
      " [-4.36906283e-04 -4.39414310e-04 -4.36904268e-04 -4.36625608e-04]\n",
      " [-8.94206931e-05 -8.88636831e-05 -8.92775853e-05 -9.02805941e-05]\n",
      " [-2.28644298e-04 -2.32267167e-04 -2.28951280e-04 -2.26517272e-04]]\n",
      "delta b_2:\n",
      " [ 0.0001591  -0.00087504 -0.0001786  -0.00045898]\n",
      "delta W_3:\n",
      " [[ 0.04068596  0.04102106  0.04062905  0.04104954]\n",
      " [-0.14487556 -0.14607238 -0.14467223 -0.14617955]]\n",
      "delta b_3:\n",
      " [ 0.08146244 -0.2900733 ]\n",
      "\n",
      "Gradient checking: \n",
      "\tPassed: 4.3603651292118627e-07\n"
     ]
    }
   ],
   "source": [
    "input_dim = 3\n",
    "hidden_dim = 4\n",
    "output_dim = 2\n",
    "batch_size = 5\n",
    "\n",
    "\n",
    "#for _ in range(10):\n",
    "parameters, X, Y = initialize(input_dim, hidden_dim, hidden_dim, output_dim, batch_size)\n",
    "\n",
    "activations = forward(parameters, X)\n",
    "\n",
    "P = activations[-1]\n",
    "\n",
    "loss = squared_loss(P, Y)\n",
    "print('Loss: {}'.format(loss))\n",
    "\n",
    "grads = backward(activations, Y, parameters)\n",
    "\n",
    "print(\"Analytic Gradients:\")\n",
    "for i in range(3):\n",
    "    print(\"delta W_{}:\\n {}\".format(i + 1, grads[2 * i]))\n",
    "    print(\"delta b_{}:\\n {}\".format(i + 1, grads[2 * i + 1]))\n",
    "print(\"\\n\")\n",
    "eps = 1e-5\n",
    "diff, num_grads = eval_numerical_gradient(parameters, grads, X, Y, squared_loss, eps=eps)\n",
    "n_grads = convert_to_list(num_grads, input_dim, hidden_dim, hidden_dim, output_dim)\n",
    "print(\"Numerical Gradients:\")\n",
    "for i in range(3):\n",
    "    print(\"delta W_{}:\\n {}\".format(i + 1, n_grads[2 * i]))\n",
    "    print(\"delta b_{}:\\n {}\".format(i + 1, n_grads[2 * i + 1]))\n",
    "print('\\nGradient checking: ')\n",
    "if diff < eps:\n",
    "    print('\\tPassed:', diff)\n",
    "else:\n",
    "    print('\\tFailed:', diff)    "
   ]
  },
  {
   "cell_type": "markdown",
   "metadata": {},
   "source": [
    "We can see that the difference between the analytic and numerical gradient is almost 0. So we have a correct backpropagation model."
   ]
  }
 ],
 "metadata": {
  "kernelspec": {
   "display_name": "Python 3",
   "language": "python",
   "name": "python3"
  },
  "language_info": {
   "codemirror_mode": {
    "name": "ipython",
    "version": 3
   },
   "file_extension": ".py",
   "mimetype": "text/x-python",
   "name": "python",
   "nbconvert_exporter": "python",
   "pygments_lexer": "ipython3",
   "version": "3.7.4"
  }
 },
 "nbformat": 4,
 "nbformat_minor": 2
}
