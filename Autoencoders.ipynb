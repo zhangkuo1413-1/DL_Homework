{
 "cells": [
  {
   "cell_type": "code",
   "execution_count": 45,
   "metadata": {},
   "outputs": [],
   "source": [
    "import torch\n",
    "import numpy as np\n",
    "from torchvision import datasets\n",
    "import torchvision.transforms as transforms\n",
    "from torch.utils.data.sampler import SubsetRandomSampler\n",
    "import matplotlib.pyplot as plt\n",
    "import torch.nn as nn\n",
    "import torch.nn.functional as F"
   ]
  },
  {
   "cell_type": "markdown",
   "metadata": {},
   "source": [
    "# Autoencoder:"
   ]
  },
  {
   "cell_type": "code",
   "execution_count": 46,
   "metadata": {},
   "outputs": [],
   "source": [
    "transform=transforms.Compose([transforms.ToTensor(), transforms.Normalize((0.5,), (0.5,)),])\n",
    "train_data = datasets.MNIST(root = 'data', train = True, download = True, transform = transform)\n",
    "test_data = datasets.MNIST(root = 'data', train = False, download = True, transform = transform)"
   ]
  },
  {
   "cell_type": "code",
   "execution_count": 47,
   "metadata": {},
   "outputs": [],
   "source": [
    "valid_size = 0.2\n",
    "batch_size = 64\n",
    "num_train = len(train_data)\n",
    "indices = list(range(num_train))\n",
    "np.random.shuffle(indices)\n",
    "split = int(np.floor(valid_size * num_train))\n",
    "train_index, valid_index = indices[split:], indices[:split]\n",
    "train_sampler = SubsetRandomSampler(train_index)\n",
    "valid_sampler = SubsetRandomSampler(valid_index)\n",
    "train_loader = torch.utils.data.DataLoader(train_data, batch_size = batch_size,\n",
    "                                           sampler = train_sampler, num_workers = 0)\n",
    "valid_loader = torch.utils.data.DataLoader(train_data, batch_size = batch_size,\n",
    "                                          sampler = valid_sampler, num_workers = 0)\n",
    "test_loader = torch.utils.data.DataLoader(test_data, batch_size = batch_size,\n",
    "                                         num_workers = 0)"
   ]
  },
  {
   "cell_type": "code",
   "execution_count": 48,
   "metadata": {},
   "outputs": [
    {
     "data": {
      "image/png": "[encoded data removed]",
      "text/plain": [
       "<Figure size 1800x288 with 20 Axes>"
      ]
     },
     "metadata": {},
     "output_type": "display_data"
    }
   ],
   "source": [
    "dataiter = iter(train_loader)\n",
    "images, labels = dataiter.next()\n",
    "images_np = images.numpy()\n",
    "fig = plt.figure(figsize=(25, 4))\n",
    "for idx in np.arange(20):\n",
    "    ax = fig.add_subplot(2, 20//2, idx+1, xticks=[], yticks=[])\n",
    "    ax.imshow(np.squeeze(images_np[idx]), cmap='gray')\n",
    "    ax.set_title(str(labels[idx].item()))"
   ]
  },
  {
   "cell_type": "code",
   "execution_count": 128,
   "metadata": {},
   "outputs": [],
   "source": [
    "class NeuralNetwork(nn.Module):\n",
    "    def __init__(self):\n",
    "        super(NeuralNetwork,self).__init__()\n",
    "        self.flatten = torch.nn.Flatten()\n",
    "        self.encoder = nn.Sequential(\n",
    "            nn.Linear(28*28, 128),\n",
    "        )\n",
    "        self.decoder = nn.Sequential(\n",
    "           nn.Linear(128, 28*28),\n",
    "           nn.Sigmoid(),      \n",
    "        )\n",
    "\n",
    "    def forward(self, x):\n",
    "        x = self.flatten(x)\n",
    "        encoded = self.encoder(x)\n",
    "        decoded = self.decoder(encoded)\n",
    "        return decoded"
   ]
  },
  {
   "cell_type": "code",
   "execution_count": 129,
   "metadata": {},
   "outputs": [
    {
     "name": "stdout",
     "output_type": "stream",
     "text": [
      "NeuralNetwork(\n",
      "  (flatten): Flatten(start_dim=1, end_dim=-1)\n",
      "  (encoder): Sequential(\n",
      "    (0): Linear(in_features=784, out_features=128, bias=True)\n",
      "  )\n",
      "  (decoder): Sequential(\n",
      "    (0): Linear(in_features=128, out_features=784, bias=True)\n",
      "    (1): Sigmoid()\n",
      "  )\n",
      ")\n",
      "1.9060481786727905\n"
     ]
    }
   ],
   "source": [
    "torch.manual_seed(1)\n",
    "flatten = torch.nn.Flatten()\n",
    "model = NeuralNetwork()\n",
    "print(model)\n",
    "lossfunc = nn.MSELoss()\n",
    "loss = lossfunc(model(images), flatten(images))\n",
    "optimizer = torch.optim.Adam(model.parameters(), lr=0.001)\n",
    "model.to('cpu')\n",
    "print(loss.item())"
   ]
  },
  {
   "cell_type": "code",
   "execution_count": 130,
   "metadata": {},
   "outputs": [
    {
     "name": "stdout",
     "output_type": "stream",
     "text": [
      "Epoch: 1 \tTraining Loss: 0.014542 \tValidation Loss: 0.014438\n",
      "Validation loss decreased (inf --> 0.014438).  Saving model ...\n",
      "Epoch: 2 \tTraining Loss: 0.014370 \tValidation Loss: 0.014362\n",
      "Validation loss decreased (0.014438 --> 0.014362).  Saving model ...\n",
      "Epoch: 3 \tTraining Loss: 0.014144 \tValidation Loss: 0.013662\n",
      "Validation loss decreased (0.014362 --> 0.013662).  Saving model ...\n",
      "Epoch: 4 \tTraining Loss: 0.013347 \tValidation Loss: 0.013275\n",
      "Validation loss decreased (0.013662 --> 0.013275).  Saving model ...\n",
      "Epoch: 5 \tTraining Loss: 0.013208 \tValidation Loss: 0.013216\n",
      "Validation loss decreased (0.013275 --> 0.013216).  Saving model ...\n",
      "Epoch: 6 \tTraining Loss: 0.013169 \tValidation Loss: 0.013189\n",
      "Do you want to continue y/nn\n"
     ]
    }
   ],
   "source": [
    "n_epochs = 50\n",
    "valid_loss_min = np.Inf\n",
    "train_losses = []\n",
    "valid_losses = []\n",
    "for epoch in range(n_epochs):\n",
    "    train_loss = 0\n",
    "    valid_loss = 0\n",
    "    model.train()\n",
    "    for data, label in train_loader:\n",
    "        data = data.to('cpu')\n",
    "        label = label.to('cpu')\n",
    "        optimizer.zero_grad()\n",
    "        generation = model(data)\n",
    "        loss = lossfunc(generation, flatten(data))\n",
    "        loss.backward()\n",
    "        optimizer.step()\n",
    "        train_loss += loss.item()\n",
    "        \n",
    "    model.eval()\n",
    "    for data,label in valid_loader:\n",
    "        data = data.to('cpu')\n",
    "        label = label.to('cpu')\n",
    "        output = model(data)\n",
    "        loss = lossfunc(output, flatten(data))\n",
    "        valid_loss += loss.item()\n",
    "\n",
    "    train_loss = train_loss / len(train_loader.sampler)\n",
    "    valid_loss = valid_loss / len(valid_loader.sampler)\n",
    "    train_losses.append(train_loss)\n",
    "    valid_losses.append(valid_loss)\n",
    "    print('Epoch: {} \\tTraining Loss: {:.6f} \\tValidation Loss: {:.6f}'.format(epoch+1, train_loss, valid_loss))\n",
    "    if epoch % 5 == 0 and epoch != 0:\n",
    "        cont = input(\"Do you want to continue y/n\")\n",
    "        if cont == 'n':\n",
    "            break\n",
    "    if valid_loss <= valid_loss_min:\n",
    "        print('Validation loss decreased ({:.6f} --> {:.6f}).  Saving model ...'.format(\n",
    "        valid_loss_min,\n",
    "        valid_loss))\n",
    "        torch.save(model.state_dict(), 'model.pt')\n",
    "        valid_loss_min = valid_loss"
   ]
  },
  {
   "cell_type": "code",
   "execution_count": 131,
   "metadata": {},
   "outputs": [
    {
     "data": {
      "text/plain": [
       "<All keys matched successfully>"
      ]
     },
     "execution_count": 131,
     "metadata": {},
     "output_type": "execute_result"
    }
   ],
   "source": [
    "model.load_state_dict(torch.load('model.pt'))"
   ]
  },
  {
   "cell_type": "code",
   "execution_count": 133,
   "metadata": {},
   "outputs": [
    {
     "name": "stdout",
     "output_type": "stream",
     "text": [
      "(64, 28, 28)\n"
     ]
    },
    {
     "data": {
      "image/png": "[encoded data removed]",
      "text/plain": [
       "<Figure size 1800x288 with 20 Axes>"
      ]
     },
     "metadata": {},
     "output_type": "display_data"
    }
   ],
   "source": [
    "model.eval()\n",
    "dataiter = iter(test_loader)\n",
    "data, labels = dataiter.next()\n",
    "output = model(data)\n",
    "original_images = data.numpy()\n",
    "encoder_images = output.reshape(-1, 28, 28).detach().numpy()\n",
    "fig = plt.figure(figsize=(25, 4))\n",
    "print(encoder_images.shape)\n",
    "for idx in np.arange(10):\n",
    "    ax = fig.add_subplot(2, 20//2, idx+1, xticks=[], yticks=[])\n",
    "    ax.imshow(np.squeeze(original_images[idx]), cmap='gray')\n",
    "    ay = fig.add_subplot(2, 20//2, idx+11, xticks=[], yticks=[])\n",
    "    ay.imshow(np.squeeze(encoder_images[idx]), cmap='gray')\n",
    "    ax.set_title(labels[idx].item())\n",
    "    ay.set_title(\"encoded:{}\".format(labels[idx].item()))"
   ]
  },
  {
   "cell_type": "markdown",
   "metadata": {},
   "source": [
    "# Variational Automencoder"
   ]
  },
  {
   "cell_type": "code",
   "execution_count": 147,
   "metadata": {},
   "outputs": [],
   "source": [
    "class VAE(nn.Module):\n",
    "    def __init__(self):\n",
    "        super(VAE,self).__init__()\n",
    "        self.flatten = torch.nn.Flatten()\n",
    "        self.fc1 = nn.Linear(28*28, 256)\n",
    "        self.fc2 = nn.Linear(256, 20)\n",
    "        self.fc3 = nn.Linear(256, 20)\n",
    "        self.fc4 = nn.Linear(20, 256)\n",
    "        self.fc5 = nn.Linear(256, 28*28)\n",
    "\n",
    "    def forward(self, x):\n",
    "        x = self.flatten(x)\n",
    "        x = F.relu(self.fc1(x))\n",
    "        mu = F.relu(self.fc2(x))\n",
    "        log_var = F.relu(self.fc3(x))\n",
    "        std = torch.exp(log_var / 2)\n",
    "        eps = torch.randn_like(std)\n",
    "        x = mu + eps * std\n",
    "        x = F.relu(self.fc4(x))\n",
    "        x = F.sigmoid(self.fc5(x))\n",
    "        return x, mu, log_var"
   ]
  },
  {
   "cell_type": "code",
   "execution_count": 148,
   "metadata": {},
   "outputs": [
    {
     "name": "stdout",
     "output_type": "stream",
     "text": [
      "VAE(\n",
      "  (flatten): Flatten(start_dim=1, end_dim=-1)\n",
      "  (fc1): Linear(in_features=784, out_features=256, bias=True)\n",
      "  (fc2): Linear(in_features=256, out_features=20, bias=True)\n",
      "  (fc3): Linear(in_features=256, out_features=20, bias=True)\n",
      "  (fc4): Linear(in_features=20, out_features=256, bias=True)\n",
      "  (fc5): Linear(in_features=256, out_features=784, bias=True)\n",
      ")\n"
     ]
    }
   ],
   "source": [
    "vae_model = VAE()\n",
    "print(vae_model)\n",
    "optimizer_vae = torch.optim.Adam(vae_model.parameters(), lr=0.001)"
   ]
  },
  {
   "cell_type": "code",
   "execution_count": 159,
   "metadata": {},
   "outputs": [
    {
     "name": "stdout",
     "output_type": "stream",
     "text": [
      "Epoch: 1 \tTraining Loss: -58452.367271 \tValidation Loss: -58203.546698\n",
      "Validation loss decreased (inf --> -58203.546698).  Saving model ...\n",
      "Epoch: 2 \tTraining Loss: -58530.856797 \tValidation Loss: -58664.135792\n",
      "Validation loss decreased (-58203.546698 --> -58664.135792).  Saving model ...\n",
      "Epoch: 3 \tTraining Loss: -58916.147667 \tValidation Loss: -59018.390354\n",
      "Validation loss decreased (-58664.135792 --> -59018.390354).  Saving model ...\n",
      "Epoch: 4 \tTraining Loss: -58986.054646 \tValidation Loss: -59041.152594\n",
      "Validation loss decreased (-59018.390354 --> -59041.152594).  Saving model ...\n",
      "Epoch: 5 \tTraining Loss: -59052.056187 \tValidation Loss: -59086.109750\n",
      "Validation loss decreased (-59041.152594 --> -59086.109750).  Saving model ...\n",
      "Epoch: 6 \tTraining Loss: -59126.276828 \tValidation Loss: -59258.378396\n",
      "Do you want to continue y/ny\n",
      "Validation loss decreased (-59086.109750 --> -59258.378396).  Saving model ...\n",
      "Epoch: 7 \tTraining Loss: -59151.700505 \tValidation Loss: -59257.569583\n",
      "Epoch: 8 \tTraining Loss: -59212.086943 \tValidation Loss: -58992.704146\n",
      "Epoch: 9 \tTraining Loss: -59254.453661 \tValidation Loss: -59222.878250\n",
      "Epoch: 10 \tTraining Loss: -59292.469672 \tValidation Loss: -59333.981094\n",
      "Validation loss decreased (-59258.378396 --> -59333.981094).  Saving model ...\n",
      "Epoch: 11 \tTraining Loss: -59340.940307 \tValidation Loss: -59324.437677\n",
      "Do you want to continue y/nn\n"
     ]
    }
   ],
   "source": [
    "n_epochs = 50\n",
    "valid_loss_min = np.Inf\n",
    "train_losses = []\n",
    "valid_losses = []\n",
    "for epoch in range(n_epochs):\n",
    "    train_loss = 0\n",
    "    valid_loss = 0\n",
    "    vae_model.train()\n",
    "    for data, label in train_loader:\n",
    "        data = data.to('cpu')\n",
    "        label = label.to('cpu')\n",
    "        optimizer_vae.zero_grad()\n",
    "        generation, mu, log_var = vae_model(data)\n",
    "        re_loss = F.binary_cross_entropy(generation, data.reshape(generation.shape), size_average=False)\n",
    "        kl_div = - 0.5 * torch.sum(1 + log_var - mu.pow(2) - log_var.exp())\n",
    "        loss = re_loss + kl_div\n",
    "        loss.backward()\n",
    "        optimizer_vae.step()\n",
    "        train_loss += loss.item()\n",
    "        \n",
    "    vae_model.eval()\n",
    "    for data,label in valid_loader:\n",
    "        data = data.to('cpu')\n",
    "        label = label.to('cpu')\n",
    "        output, mu, log_var = vae_model(data)\n",
    "        re_loss = F.binary_cross_entropy(output, data.reshape(output.shape), size_average=False)\n",
    "        kl_div = - 0.5 * torch.sum(1 + log_var - mu.pow(2) - log_var.exp())\n",
    "        loss = re_loss + kl_div\n",
    "        valid_loss += loss.item()\n",
    "\n",
    "    train_loss = train_loss / len(train_loader.sampler)\n",
    "    valid_loss = valid_loss / len(valid_loader.sampler)\n",
    "    train_losses.append(train_loss)\n",
    "    valid_losses.append(valid_loss)\n",
    "    print('Epoch: {} \\tTraining Loss: {:.6f} \\tValidation Loss: {:.6f}'.format(epoch+1, train_loss, valid_loss))\n",
    "    if epoch % 5 == 0 and epoch != 0:\n",
    "        cont = input(\"Do you want to continue y/n\")\n",
    "        if cont == 'n':\n",
    "            break\n",
    "    if valid_loss <= valid_loss_min:\n",
    "        print('Validation loss decreased ({:.6f} --> {:.6f}).  Saving model ...'.format(\n",
    "        valid_loss_min,\n",
    "        valid_loss))\n",
    "        torch.save(vae_model.state_dict(), 'vae_model.pt')\n",
    "        valid_loss_min = valid_loss"
   ]
  },
  {
   "cell_type": "code",
   "execution_count": 160,
   "metadata": {},
   "outputs": [
    {
     "data": {
      "text/plain": [
       "<All keys matched successfully>"
      ]
     },
     "execution_count": 160,
     "metadata": {},
     "output_type": "execute_result"
    }
   ],
   "source": [
    "vae_model.load_state_dict(torch.load('vae_model.pt'))"
   ]
  },
  {
   "cell_type": "code",
   "execution_count": 161,
   "metadata": {},
   "outputs": [
    {
     "name": "stdout",
     "output_type": "stream",
     "text": [
      "(64, 28, 28)\n"
     ]
    },
    {
     "data": {
      "image/png": "[encoded data removed]",
      "text/plain": [
       "<Figure size 1800x288 with 20 Axes>"
      ]
     },
     "metadata": {},
     "output_type": "display_data"
    }
   ],
   "source": [
    "vae_model.eval()\n",
    "dataiter = iter(test_loader)\n",
    "data, labels = dataiter.next()\n",
    "output, mu, log_var = vae_model(data)\n",
    "original_images = data.numpy()\n",
    "encoder_images = output.reshape(-1, 28, 28).detach().numpy()\n",
    "fig = plt.figure(figsize=(25, 4))\n",
    "print(encoder_images.shape)\n",
    "for idx in np.arange(10):\n",
    "    ax = fig.add_subplot(2, 20//2, idx+1, xticks=[], yticks=[])\n",
    "    ax.imshow(np.squeeze(original_images[idx]), cmap='gray')\n",
    "    ay = fig.add_subplot(2, 20//2, idx+11, xticks=[], yticks=[])\n",
    "    ay.imshow(np.squeeze(encoder_images[idx]), cmap='gray')\n",
    "    ax.set_title(labels[idx].item())\n",
    "    ay.set_title(\"vae_encoded:{}\".format(labels[idx].item()))"
   ]
  },
  {
   "cell_type": "markdown",
   "metadata": {},
   "source": [
    "From the model we can see that VAE is more feasible than AE. It can encode the picture with fewer features. And AE is a data-dependent encoder. So AE can only encode the data, that is similar with the training data. On the contrary, VAE is tend to generate data. Once we trained the decoder, we can use it to decode the data, that was generate by the Gaussian."
   ]
  }
 ],
 "metadata": {
  "kernelspec": {
   "display_name": "Python 3",
   "language": "python",
   "name": "python3"
  },
  "language_info": {
   "codemirror_mode": {
    "name": "ipython",
    "version": 3
   },
   "file_extension": ".py",
   "mimetype": "text/x-python",
   "name": "python",
   "nbconvert_exporter": "python",
   "pygments_lexer": "ipython3",
   "version": "3.8.5"
  }
 },
 "nbformat": 4,
 "nbformat_minor": 4
}
