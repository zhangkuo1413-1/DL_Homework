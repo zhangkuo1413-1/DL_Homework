{
 "cells": [
  {
   "cell_type": "code",
   "execution_count": 167,
   "metadata": {},
   "outputs": [],
   "source": [
    "import torch\n",
    "import numpy as np\n",
    "from torchvision import datasets\n",
    "import torchvision.transforms as transforms\n",
    "from torch.utils.data.sampler import SubsetRandomSampler\n",
    "import matplotlib.pyplot as plt\n",
    "import torch.nn as nn\n",
    "import torch.nn.functional as F"
   ]
  },
  {
   "cell_type": "code",
   "execution_count": 168,
   "metadata": {},
   "outputs": [],
   "source": [
    "transform=transforms.Compose([transforms.ToTensor(), transforms.Normalize((0.5,), (0.5,)),])\n",
    "train_data = datasets.MNIST(root = 'data', train = True, download = True, transform = transform)\n",
    "test_data = datasets.MNIST(root = 'data', train = False, download = True, transform = transform)"
   ]
  },
  {
   "cell_type": "code",
   "execution_count": 171,
   "metadata": {},
   "outputs": [],
   "source": [
    "valid_size = 0.2\n",
    "batch_size = 64\n",
    "num_train = len(train_data)\n",
    "indices = list(range(num_train))\n",
    "np.random.shuffle(indices)\n",
    "split = int(np.floor(valid_size * num_train))\n",
    "train_index, valid_index = indices[split:], indices[:split]\n",
    "train_sampler = SubsetRandomSampler(train_index)\n",
    "valid_sampler = SubsetRandomSampler(valid_index)\n",
    "train_loader = torch.utils.data.DataLoader(train_data, batch_size = batch_size,\n",
    "                                           sampler = train_sampler, num_workers = 0)\n",
    "valid_loader = torch.utils.data.DataLoader(train_data, batch_size = batch_size,\n",
    "                                          sampler = valid_sampler, num_workers = 0)\n",
    "test_loader = torch.utils.data.DataLoader(test_data, batch_size = batch_size,\n",
    "                                         num_workers = 0)"
   ]
  },
  {
   "cell_type": "code",
   "execution_count": 172,
   "metadata": {},
   "outputs": [
    {
     "data": {
      "image/png": "[encoded data removed]",
      "text/plain": [
       "<Figure size 1800x288 with 20 Axes>"
      ]
     },
     "metadata": {},
     "output_type": "display_data"
    }
   ],
   "source": [
    "dataiter = iter(train_loader)\n",
    "images, labels = dataiter.next()\n",
    "images_np = images.numpy()\n",
    "fig = plt.figure(figsize=(25, 4))\n",
    "for idx in np.arange(20):\n",
    "    ax = fig.add_subplot(2, 20//2, idx+1, xticks=[], yticks=[])\n",
    "    ax.imshow(np.squeeze(images_np[idx]), cmap='gray')\n",
    "    ax.set_title(str(labels[idx].item()))"
   ]
  },
  {
   "cell_type": "code",
   "execution_count": 173,
   "metadata": {},
   "outputs": [
    {
     "name": "stdout",
     "output_type": "stream",
     "text": [
      "torch.Size([64, 1, 28, 28])\n",
      "torch.Size([64])\n"
     ]
    }
   ],
   "source": [
    "print(images.shape)\n",
    "print(labels.shape)"
   ]
  },
  {
   "cell_type": "code",
   "execution_count": 174,
   "metadata": {},
   "outputs": [],
   "source": [
    "class NeuralNetwork(nn.Module):\n",
    "    def __init__(self):\n",
    "        super(NeuralNetwork,self).__init__()\n",
    "        self.C1 = nn.Parameter(data=torch.zeros(6, 1, 5, 5), requires_grad=True)\n",
    "        self.b1 = nn.Parameter(torch.zeros(6), requires_grad=True)\n",
    "        nn.init.xavier_uniform_(self.C1, gain=nn.init.calculate_gain('relu'))\n",
    "        \n",
    "        self.C3 = nn.Parameter(torch.zeros(16, 6, 5, 5), requires_grad=True)\n",
    "        self.b3 = nn.Parameter(torch.zeros(16), requires_grad=True)\n",
    "        nn.init.xavier_uniform_(self.C3, gain=nn.init.calculate_gain('relu'))\n",
    "        \n",
    "        self.C5 = nn.Parameter(torch.zeros(120, 16, 5, 5), requires_grad=True)\n",
    "        self.b5 = nn.Parameter(torch.zeros(120), requires_grad=True)\n",
    "        nn.init.xavier_uniform_(self.C5, gain=nn.init.calculate_gain('relu'))\n",
    "        \n",
    "        self.F6 = nn.Parameter(torch.zeros(120, 84), requires_grad=True)\n",
    "        self.b6 = nn.Parameter(torch.zeros(84), requires_grad=True)\n",
    "        nn.init.xavier_uniform_(self.F6, gain=nn.init.calculate_gain('relu'))\n",
    "        \n",
    "        self.F7 = nn.Parameter(torch.zeros(84, 10), requires_grad=True)\n",
    "        nn.init.xavier_uniform_(self.F7, gain=nn.init.calculate_gain('sigmoid'))\n",
    "        \n",
    "    def forward(self, x):\n",
    "        n = x.shape[0]\n",
    "        x = F.conv2d(x, self.C1, padding=2, bias=self.b1)\n",
    "        x = F.relu(x)\n",
    "        pooling = torch.ones(1, 1, 2, 2) * 0.25\n",
    "        x1 = torch.zeros(n, 6, 14, 14)\n",
    "        for i in range(6):\n",
    "            x_temp = F.conv2d(x[:, i, :, :].unsqueeze(1), pooling, stride=2)\n",
    "            x1[:, i, :, :] = x_temp.squeeze()\n",
    "        x = x1\n",
    "        \n",
    "        x = F.conv2d(x, self.C3, bias=self.b3)\n",
    "        x = F.relu(x)\n",
    "        x1 = torch.zeros(n, 16, 5, 5)\n",
    "        for i in range(16):\n",
    "            x_temp = F.conv2d(x[:, i, :, :].unsqueeze(1), pooling, stride=2)\n",
    "            x1[:, i, :, :] = x_temp.squeeze()\n",
    "        x = x1\n",
    "        \n",
    "        x = F.conv2d(x, self.C5, bias=self.b5)\n",
    "        x = F.relu(x)\n",
    "        x = x.squeeze()\n",
    "        x = x.mm(self.F6) + self.b6\n",
    "        x1 = torch.zeros(n, 10)\n",
    "        for i in range(10):\n",
    "            x1[:, i] = ((x - self.F7[:, i])**2).sum(axis=1)\n",
    "        x = x1\n",
    "        return x"
   ]
  },
  {
   "cell_type": "code",
   "execution_count": 175,
   "metadata": {},
   "outputs": [
    {
     "name": "stdout",
     "output_type": "stream",
     "text": [
      "NeuralNetwork()\n",
      "2.4127612113952637\n"
     ]
    }
   ],
   "source": [
    "model = NeuralNetwork()\n",
    "print(model)\n",
    "criterion = nn.CrossEntropyLoss()\n",
    "loss = criterion(model(images), labels)\n",
    "optimizer = torch.optim.SGD(model.parameters(), lr=0.005)\n",
    "model.to('cpu')\n",
    "print(loss.item())"
   ]
  },
  {
   "cell_type": "code",
   "execution_count": 176,
   "metadata": {},
   "outputs": [
    {
     "name": "stdout",
     "output_type": "stream",
     "text": [
      "Epoch: 1 \tTraining Loss: 0.010498 \tValidation Loss: 0.004717\n",
      "Validation loss decreased (inf --> 0.004717).  Saving model ...\n",
      "Epoch: 2 \tTraining Loss: 0.003937 \tValidation Loss: 0.003321\n",
      "Validation loss decreased (0.004717 --> 0.003321).  Saving model ...\n",
      "Epoch: 3 \tTraining Loss: 0.002810 \tValidation Loss: 0.002357\n",
      "Validation loss decreased (0.003321 --> 0.002357).  Saving model ...\n",
      "Epoch: 4 \tTraining Loss: 0.002184 \tValidation Loss: 0.002087\n",
      "Validation loss decreased (0.002357 --> 0.002087).  Saving model ...\n",
      "Epoch: 5 \tTraining Loss: 0.001807 \tValidation Loss: 0.001664\n",
      "Validation loss decreased (0.002087 --> 0.001664).  Saving model ...\n",
      "Epoch: 6 \tTraining Loss: 0.001574 \tValidation Loss: 0.001550\n",
      "Do you want to continue y/ny\n",
      "Validation loss decreased (0.001664 --> 0.001550).  Saving model ...\n",
      "Epoch: 7 \tTraining Loss: 0.001396 \tValidation Loss: 0.001317\n",
      "Validation loss decreased (0.001550 --> 0.001317).  Saving model ...\n",
      "Epoch: 8 \tTraining Loss: 0.001256 \tValidation Loss: 0.001241\n",
      "Validation loss decreased (0.001317 --> 0.001241).  Saving model ...\n",
      "Epoch: 9 \tTraining Loss: 0.001160 \tValidation Loss: 0.001142\n",
      "Validation loss decreased (0.001241 --> 0.001142).  Saving model ...\n",
      "Epoch: 10 \tTraining Loss: 0.001080 \tValidation Loss: 0.001104\n",
      "Validation loss decreased (0.001142 --> 0.001104).  Saving model ...\n",
      "Epoch: 11 \tTraining Loss: 0.001004 \tValidation Loss: 0.001113\n",
      "Do you want to continue y/ny\n",
      "Epoch: 12 \tTraining Loss: 0.000941 \tValidation Loss: 0.001055\n",
      "Validation loss decreased (0.001104 --> 0.001055).  Saving model ...\n",
      "Epoch: 13 \tTraining Loss: 0.000893 \tValidation Loss: 0.000936\n",
      "Validation loss decreased (0.001055 --> 0.000936).  Saving model ...\n",
      "Epoch: 14 \tTraining Loss: 0.000839 \tValidation Loss: 0.001052\n",
      "Epoch: 15 \tTraining Loss: 0.000807 \tValidation Loss: 0.000861\n",
      "Validation loss decreased (0.000936 --> 0.000861).  Saving model ...\n",
      "Epoch: 16 \tTraining Loss: 0.000765 \tValidation Loss: 0.000901\n",
      "Do you want to continue y/ny\n",
      "Epoch: 17 \tTraining Loss: 0.000739 \tValidation Loss: 0.000850\n",
      "Validation loss decreased (0.000861 --> 0.000850).  Saving model ...\n",
      "Epoch: 18 \tTraining Loss: 0.000699 \tValidation Loss: 0.000892\n",
      "Epoch: 19 \tTraining Loss: 0.000683 \tValidation Loss: 0.000781\n",
      "Validation loss decreased (0.000850 --> 0.000781).  Saving model ...\n",
      "Epoch: 20 \tTraining Loss: 0.000644 \tValidation Loss: 0.000776\n",
      "Validation loss decreased (0.000781 --> 0.000776).  Saving model ...\n",
      "Epoch: 21 \tTraining Loss: 0.000628 \tValidation Loss: 0.000814\n",
      "Do you want to continue y/ny\n",
      "Epoch: 22 \tTraining Loss: 0.000607 \tValidation Loss: 0.000768\n",
      "Validation loss decreased (0.000776 --> 0.000768).  Saving model ...\n",
      "Epoch: 23 \tTraining Loss: 0.000590 \tValidation Loss: 0.000777\n",
      "Epoch: 24 \tTraining Loss: 0.000559 \tValidation Loss: 0.000827\n",
      "Epoch: 25 \tTraining Loss: 0.000542 \tValidation Loss: 0.000764\n",
      "Validation loss decreased (0.000768 --> 0.000764).  Saving model ...\n",
      "Epoch: 26 \tTraining Loss: 0.000527 \tValidation Loss: 0.000715\n",
      "Do you want to continue y/ny\n",
      "Validation loss decreased (0.000764 --> 0.000715).  Saving model ...\n",
      "Epoch: 27 \tTraining Loss: 0.000505 \tValidation Loss: 0.000781\n",
      "Epoch: 28 \tTraining Loss: 0.000499 \tValidation Loss: 0.000757\n",
      "Epoch: 29 \tTraining Loss: 0.000476 \tValidation Loss: 0.000729\n",
      "Epoch: 30 \tTraining Loss: 0.000459 \tValidation Loss: 0.000683\n",
      "Validation loss decreased (0.000715 --> 0.000683).  Saving model ...\n",
      "Epoch: 31 \tTraining Loss: 0.000438 \tValidation Loss: 0.000740\n",
      "Do you want to continue y/ny\n",
      "Epoch: 32 \tTraining Loss: 0.000426 \tValidation Loss: 0.000739\n",
      "Epoch: 33 \tTraining Loss: 0.000420 \tValidation Loss: 0.000736\n",
      "Epoch: 34 \tTraining Loss: 0.000410 \tValidation Loss: 0.000708\n",
      "Epoch: 35 \tTraining Loss: 0.000388 \tValidation Loss: 0.000653\n",
      "Validation loss decreased (0.000683 --> 0.000653).  Saving model ...\n",
      "Epoch: 36 \tTraining Loss: 0.000378 \tValidation Loss: 0.000672\n",
      "Do you want to continue y/ny\n",
      "Epoch: 37 \tTraining Loss: 0.000369 \tValidation Loss: 0.000757\n",
      "Epoch: 38 \tTraining Loss: 0.000362 \tValidation Loss: 0.000708\n",
      "Epoch: 39 \tTraining Loss: 0.000345 \tValidation Loss: 0.000641\n",
      "Validation loss decreased (0.000653 --> 0.000641).  Saving model ...\n",
      "Epoch: 40 \tTraining Loss: 0.000340 \tValidation Loss: 0.000759\n",
      "Epoch: 41 \tTraining Loss: 0.000326 \tValidation Loss: 0.000642\n",
      "Do you want to continue y/ny\n",
      "Epoch: 42 \tTraining Loss: 0.000323 \tValidation Loss: 0.000692\n",
      "Epoch: 43 \tTraining Loss: 0.000305 \tValidation Loss: 0.000617\n",
      "Validation loss decreased (0.000641 --> 0.000617).  Saving model ...\n",
      "Epoch: 44 \tTraining Loss: 0.000301 \tValidation Loss: 0.000620\n",
      "Epoch: 45 \tTraining Loss: 0.000292 \tValidation Loss: 0.000657\n",
      "Epoch: 46 \tTraining Loss: 0.000281 \tValidation Loss: 0.000693\n",
      "Do you want to continue y/ny\n",
      "Epoch: 47 \tTraining Loss: 0.000275 \tValidation Loss: 0.000665\n",
      "Epoch: 48 \tTraining Loss: 0.000264 \tValidation Loss: 0.000611\n",
      "Validation loss decreased (0.000617 --> 0.000611).  Saving model ...\n",
      "Epoch: 49 \tTraining Loss: 0.000264 \tValidation Loss: 0.000744\n",
      "Epoch: 50 \tTraining Loss: 0.000254 \tValidation Loss: 0.000660\n"
     ]
    }
   ],
   "source": [
    "n_epochs = 50\n",
    "valid_loss_min = np.Inf\n",
    "train_losses = []\n",
    "valid_losses = []\n",
    "for epoch in range(n_epochs):\n",
    "    train_loss = 0\n",
    "    valid_loss = 0\n",
    "    model.train()\n",
    "    for data, label in train_loader:\n",
    "        data = data.to('cpu')\n",
    "        label = label.to('cpu')\n",
    "        optimizer.zero_grad()\n",
    "        pred = model(data)\n",
    "        loss = criterion(pred, label)\n",
    "        loss.backward()\n",
    "        optimizer.step()\n",
    "        train_loss += loss.item()\n",
    "        \n",
    "    model.eval()\n",
    "    for data,label in valid_loader:\n",
    "        data = data.to('cpu')\n",
    "        label = label.to('cpu')\n",
    "        output = model(data)\n",
    "        loss = criterion(output, label)\n",
    "        valid_loss += loss.item()\n",
    "\n",
    "    train_loss = train_loss / len(train_loader.sampler)\n",
    "    valid_loss = valid_loss / len(valid_loader.sampler)\n",
    "    train_losses.append(train_loss)\n",
    "    valid_losses.append(valid_loss)\n",
    "    print('Epoch: {} \\tTraining Loss: {:.6f} \\tValidation Loss: {:.6f}'.format(epoch+1, train_loss, valid_loss))\n",
    "    if epoch % 5 == 0 and epoch != 0:\n",
    "        cont = input(\"Do you want to continue y/n\")\n",
    "        if cont == 'n':\n",
    "            break\n",
    "    if valid_loss <= valid_loss_min:\n",
    "        print('Validation loss decreased ({:.6f} --> {:.6f}).  Saving model ...'.format(\n",
    "        valid_loss_min,\n",
    "        valid_loss))\n",
    "        torch.save(model.state_dict(), 'model.pt')\n",
    "        valid_loss_min = valid_loss"
   ]
  },
  {
   "cell_type": "code",
   "execution_count": 178,
   "metadata": {},
   "outputs": [
    {
     "data": {
      "image/png": "[encoded data removed]",
      "text/plain": [
       "<Figure size 432x288 with 1 Axes>"
      ]
     },
     "metadata": {
      "needs_background": "light"
     },
     "output_type": "display_data"
    },
    {
     "name": "stdout",
     "output_type": "stream",
     "text": [
      "Accuracy of 1-th test: 1.0\n",
      "Accuracy of 2-th test: 1.0\n",
      "Accuracy of 3-th test: 1.0\n",
      "Accuracy of 4-th test: 0.984375\n",
      "Accuracy of 5-th test: 0.984375\n",
      "Accuracy of 6-th test: 0.96875\n",
      "Accuracy of 7-th test: 0.984375\n",
      "Accuracy of 8-th test: 0.96875\n",
      "Accuracy of 9-th test: 1.0\n",
      "Accuracy of 10-th test: 0.984375\n"
     ]
    }
   ],
   "source": [
    "model.load_state_dict(torch.load('model.pt'))\n",
    "plt.plot(np.arange(50),train_losses, color='b', label='train')\n",
    "plt.plot(np.arange(50),valid_losses, color='r', label='validate')\n",
    "plt.legend()\n",
    "plt.show()\n",
    "model.eval()\n",
    "idx = 0\n",
    "for data, label in test_loader:\n",
    "    if idx >= 10:\n",
    "        break\n",
    "    idx += 1\n",
    "    model.eval()\n",
    "    output = model(data)\n",
    "    pred = torch.argmax(output, 1)\n",
    "    acc = pred == label\n",
    "    acc = (acc.sum()/len(acc)).item()\n",
    "    print(\"Accuracy of {}-th test: {}\".format(idx, acc))"
   ]
  },
  {
   "cell_type": "code",
   "execution_count": 179,
   "metadata": {},
   "outputs": [
    {
     "name": "stdout",
     "output_type": "stream",
     "text": [
      "tensor([7, 2, 1, 0, 4, 1, 4, 9, 5, 9, 0, 6, 9, 0, 1, 5, 9, 7, 3, 4, 9, 6, 6, 5,\n",
      "        4, 0, 7, 4, 0, 1, 3, 1, 3, 4, 7, 2, 7, 1, 2, 1, 1, 7, 4, 2, 3, 5, 1, 2,\n",
      "        4, 4, 6, 3, 5, 5, 6, 0, 4, 1, 9, 5, 7, 8, 9, 3])\n",
      "tensor([7, 2, 1, 0, 4, 1, 4, 9, 5, 9, 0, 6, 9, 0, 1, 5, 9, 7, 3, 4, 9, 6, 6, 5,\n",
      "        4, 0, 7, 4, 0, 1, 3, 1, 3, 4, 7, 2, 7, 1, 2, 1, 1, 7, 4, 2, 3, 5, 1, 2,\n",
      "        4, 4, 6, 3, 5, 5, 6, 0, 4, 1, 9, 5, 7, 8, 9, 3])\n"
     ]
    },
    {
     "data": {
      "image/png": "[encoded data removed]",
      "text/plain": [
       "<Figure size 1800x288 with 20 Axes>"
      ]
     },
     "metadata": {},
     "output_type": "display_data"
    }
   ],
   "source": [
    "model.eval()\n",
    "dataiter = iter(test_loader)\n",
    "data, labels = dataiter.next()\n",
    "output = model(data)\n",
    "preds = torch.argmax(output, 1)\n",
    "images = data.numpy()\n",
    "fig = plt.figure(figsize=(25, 4))\n",
    "print(labels)\n",
    "print(preds)\n",
    "for idx in np.arange(20):\n",
    "    ax = fig.add_subplot(2, 20//2, idx+1, xticks=[], yticks=[])\n",
    "    ax.imshow(np.squeeze(images[idx]), cmap='gray')\n",
    "    ax.set_title(\"{} ({})\".format(str(preds[idx].item()), str(labels[idx].item())),\n",
    "                 color=(\"green\" if preds[idx]==labels[idx] else \"red\"))"
   ]
  },
  {
   "cell_type": "code",
   "execution_count": null,
   "metadata": {},
   "outputs": [],
   "source": []
  }
 ],
 "metadata": {
  "kernelspec": {
   "display_name": "Python 3",
   "language": "python",
   "name": "python3"
  },
  "language_info": {
   "codemirror_mode": {
    "name": "ipython",
    "version": 3
   },
   "file_extension": ".py",
   "mimetype": "text/x-python",
   "name": "python",
   "nbconvert_exporter": "python",
   "pygments_lexer": "ipython3",
   "version": "3.8.5"
  }
 },
 "nbformat": 4,
 "nbformat_minor": 4
}
